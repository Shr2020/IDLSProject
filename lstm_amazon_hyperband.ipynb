{
 "cells": [
  {
   "cell_type": "code",
   "execution_count": null,
   "metadata": {
    "colab": {
     "base_uri": "https://localhost:8080/"
    },
    "id": "Oajq_A9Wb1mQ",
    "outputId": "39c7edee-8a99-4174-fead-e32e1346fb02"
   },
   "outputs": [],
   "source": [
    "from google.colab import drive\n",
    "drive.mount('/content/gdrive/')\n",
    "import sys\n",
    "import os\n",
    "prefix = '/content/gdrive/My Drive/'\n",
    "# modify \"customized_path_to_your_homework\" here to where you uploaded your homework\n",
    "customized_path_to_your_homework = 'IDLSProject-main'\n",
    "sys_path = os.path.join(prefix, customized_path_to_your_homework)\n",
    "sys.path.append(sys_path)"
   ]
  },
  {
   "cell_type": "code",
   "execution_count": null,
   "metadata": {
    "colab": {
     "base_uri": "https://localhost:8080/"
    },
    "id": "O36-vTu0b4Vq",
    "outputId": "6ecf9361-eb15-48bf-91a0-4138310adb7a"
   },
   "outputs": [],
   "source": [
    "%cd '/content/gdrive/My Drive/IDLSProject-main'"
   ]
  },
  {
   "cell_type": "code",
   "execution_count": 1,
   "metadata": {
    "id": "yBS_Cwn9bQOa"
   },
   "outputs": [],
   "source": [
    "import pandas as pd\n",
    "import os\n",
    "import pickle\n",
    "\n",
    "data_dir = './data/pytorch'\n",
    "with open(os.path.join(data_dir, 'word_dict_amazon.pkl'), \"rb\") as f:\n",
    "    word_dict = pickle.load(f)"
   ]
  },
  {
   "cell_type": "code",
   "execution_count": 2,
   "metadata": {
    "colab": {
     "base_uri": "https://localhost:8080/"
    },
    "id": "FMsjwRQ9KBwk",
    "outputId": "6f9757b3-4693-492b-f76e-8e0c1f4bda29"
   },
   "outputs": [
    {
     "name": "stdout",
     "output_type": "stream",
     "text": [
      "(83000, 502) (21975, 502)\n"
     ]
    }
   ],
   "source": [
    "import pandas as pd\n",
    "import os\n",
    "train = pd.read_csv(os.path.join(data_dir, 'train_amazon.csv'), header=None, names=None)\n",
    "test_sample = pd.read_csv(os.path.join(data_dir, 'test_amazon.csv'), header=None, names=None)\n",
    "print(train.shape, test_sample.shape)"
   ]
  },
  {
   "cell_type": "code",
   "execution_count": 3,
   "metadata": {
    "colab": {
     "base_uri": "https://localhost:8080/"
    },
    "id": "sn509rQ2KFBX",
    "outputId": "ae259769-1bd7-4e94-93ee-74e33aec2ccc"
   },
   "outputs": [
    {
     "data": {
      "text/plain": [
       "((83000, 502), (10987, 502), (10988, 502))"
      ]
     },
     "execution_count": 3,
     "metadata": {},
     "output_type": "execute_result"
    }
   ],
   "source": [
    "from sklearn.model_selection import train_test_split\n",
    "test, val = train_test_split(test_sample, test_size=0.5)\n",
    "train.shape, test.shape, val.shape"
   ]
  },
  {
   "cell_type": "code",
   "execution_count": 4,
   "metadata": {
    "colab": {
     "base_uri": "https://localhost:8080/"
    },
    "id": "UkVwncNSKHsE",
    "outputId": "3eaf6395-49a9-4ba7-e651-065fde3ada39"
   },
   "outputs": [
    {
     "name": "stdout",
     "output_type": "stream",
     "text": [
      "torch.Size([10987])\n"
     ]
    }
   ],
   "source": [
    "import torch\n",
    "import torch.utils.data\n",
    "\n",
    "# Turn the input pandas dataframe into tensors\n",
    "train_y = torch.from_numpy(train[[0]].values).float().squeeze()\n",
    "train_X = torch.from_numpy(train.drop([0], axis=1).values).long()\n",
    "\n",
    "# Build the dataset\n",
    "train_ds = torch.utils.data.TensorDataset(train_X, train_y)\n",
    "# Build the dataloader\n",
    "train_dl = torch.utils.data.DataLoader(train_ds, batch_size=50)\n",
    "\n",
    "######val data\n",
    "# Turn the input pandas dataframe into tensors\n",
    "val_y = torch.from_numpy(val[[0]].values).float().squeeze()\n",
    "val_X = torch.from_numpy(val.drop([0], axis=1).values).long()\n",
    "\n",
    "# Build the dataset\n",
    "val_ds = torch.utils.data.TensorDataset(val_X, val_y)\n",
    "# Build the dataloader\n",
    "val_dl = torch.utils.data.DataLoader(val_ds, batch_size=50)\n",
    "\n",
    "\n",
    "#### Test data\n",
    "# Turn the input pandas dataframe into tensors\n",
    "test_y = torch.from_numpy(test[[0]].values).float().squeeze()\n",
    "test_X = torch.from_numpy(test.drop([0], axis=1).values).long()\n",
    "\n",
    "# Build the dataset\n",
    "test_ds = torch.utils.data.TensorDataset(test_X, test_y)\n",
    "# Build the dataloader\n",
    "test_dl = torch.utils.data.DataLoader(test_ds, batch_size=50)\n",
    "print(test_y.shape)"
   ]
  },
  {
   "cell_type": "code",
   "execution_count": 5,
   "metadata": {
    "id": "1f_CNpgsKKrW"
   },
   "outputs": [],
   "source": [
    "import torch.nn as nn\n",
    "import numpy as np\n",
    "\n",
    "class LSTMClassifier(nn.Module):\n",
    "    \"\"\"\n",
    "    This is the simple RNN model we will be using to perform Sentiment Analysis.\n",
    "    \"\"\"\n",
    "\n",
    "    def __init__(self, trial,vocab_size):\n",
    "        \"\"\"\n",
    "        Initialize the model by settingg up the various layers.\n",
    "        \"\"\"\n",
    "        super(LSTMClassifier, self).__init__()\n",
    "        dropout = trial.suggest_uniform(\"dropout\",0.1, 0.6)\n",
    "        hidden_dim = trial.suggest_int(\"hidden_dim\",16,256)\n",
    "        embedding_dim = trial.suggest_int(\"embedding_dim\",16,128)\n",
    "        self.embedding = nn.Embedding(vocab_size, embedding_dim, padding_idx=0)\n",
    "        self.lstm = nn.LSTM(embedding_dim, hidden_dim)\n",
    "        self.dense = nn.Linear(in_features=hidden_dim, out_features=1)\n",
    "        self.sig = nn.Sigmoid()\n",
    "        \n",
    "        self.word_dict = None\n",
    "\n",
    "    def forward(self, x):\n",
    "        \"\"\"\n",
    "        Perform a forward pass of our model on some input.\n",
    "        \"\"\"\n",
    "        x = x.t()\n",
    "        lengths = x[0,:]\n",
    "        reviews = x[1:,:]\n",
    "        embeds = self.embedding(reviews)\n",
    "        lstm_out, _ = self.lstm(embeds)\n",
    "        out = self.dense(lstm_out)\n",
    "        out = out[lengths - 1, range(len(lengths))]\n",
    "        return self.sig(out.squeeze())"
   ]
  },
  {
   "cell_type": "code",
   "execution_count": 6,
   "metadata": {
    "id": "mT8XRhwXKPVg"
   },
   "outputs": [],
   "source": [
    "data_dir = './lstm-amazon-hyperband-trails_6/' # The folder we will use for storing data\n",
    "if not os.path.exists(data_dir): # Make sure that the folder exists\n",
    "    os.makedirs(data_dir)\n",
    "\n",
    "    filename = \"\"\n",
    "def write_to_csv(trail_num, epochs, train_loss, train_acc, val_loss, val_acc, time_train):\n",
    "    global filename\n",
    "    filename = \"./lstm-amazon-hyperband-trails_6/\"+str(trail_num)+\".csv\"\n",
    "    epoch = [i for i in range(epochs)]\n",
    "    df_metrics = pd.DataFrame(list(zip(epoch, train_loss, train_acc, val_loss, val_acc, time_train)), columns =['Epoch', 'train_loss', 'train_acc', 'val_loss', 'val_acc', 'train_time'])\n",
    "    df_metrics.to_csv(filename, index=False)    \n",
    "    \n",
    "def append_to_csv(epochs, accuracy):\n",
    "    acc = [accuracy for i in range(epochs)]\n",
    "    df_csv = pd.read_csv(filename)\n",
    "    df_csv['Test_Accuracy']  = acc\n",
    "    df_csv.to_csv(filename, index=False)"
   ]
  },
  {
   "cell_type": "code",
   "execution_count": 7,
   "metadata": {
    "id": "OasEM6YFKTBw"
   },
   "outputs": [],
   "source": [
    "import time\n",
    "import optuna\n",
    "from optuna.trial import TrialState\n",
    "import torch.optim as optim\n",
    "import torch.optim as optim\n",
    "import numpy as np\n",
    "\n",
    "epochs = 10\n",
    "vocab_size=10000\n",
    "device = torch.device(\"cuda\" if torch.cuda.is_available() else \"cpu\")\n",
    "\n",
    "# Define an objective function to be minimized.\n",
    "def objective(trial):\n",
    "    optimizer_name = trial.suggest_categorical(\"optimizer\", [\"Adam\", \"RMSprop\", \"SGD\"])\n",
    "    #epochs = trial.suggest_int(\"epochs\",5,15)\n",
    "    lr = trial.suggest_loguniform(\"lr\", 1e-5, 1e-0)\n",
    "    #momentum = trial.suggest_uniform(\"momentum\", 0.0, 1.0)\n",
    "    model = LSTMClassifier(trial, vocab_size).to(device)\n",
    "    trial.set_user_attr(key=\"best_model\", value=model)\n",
    "    optimizer = getattr(optim, optimizer_name)(model.parameters(), lr=lr)\n",
    "    loss_fn = torch.nn.BCELoss()\n",
    "    train_loss_epoch = []\n",
    "    train_acc_epoch = []\n",
    "    val_loss_epoch = []\n",
    "    val_accuracy_epoch = []\n",
    "    time_train = []\n",
    "    final_val_acc = 0\n",
    "    for epoch in range(epochs):\n",
    "        model.train()\n",
    "        start = time.time()\n",
    "        total_loss = 0\n",
    "        train_acc = 0\n",
    "        total = 0\n",
    "        correct = 0\n",
    "        for batch in train_dl:         \n",
    "            batch_X, batch_y = batch\n",
    "            batch_X = batch_X.to(device)\n",
    "            batch_y = batch_y.to(device)\n",
    "            optimizer.zero_grad()\n",
    "            prediction = model(batch_X)\n",
    "            loss = loss_fn(prediction, batch_y)\n",
    "            loss.backward()\n",
    "            optimizer.step()\n",
    "            result = np.round(prediction.detach().cpu())\n",
    "            total_loss += loss.data.item()\n",
    "            total += batch_y.size(0)\n",
    "            correct += (result == batch_y.cpu()).sum().item()\n",
    "            train_acc = correct/total\n",
    "        train_loss_epoch.append(np.round(total_loss / len(train_dl), 3))\n",
    "        train_acc_epoch.append(np.round(train_acc*100,3))\n",
    "        print(\"Epoch: {}, BCELoss: {}\".format(epoch, total_loss / len(train_dl)))\n",
    "        with torch.no_grad():\n",
    "            model.eval()\n",
    "            correct = 0\n",
    "            total = 0\n",
    "            val_loss = []\n",
    "            for inputs, labels in val_dl:\n",
    "                inputs_val, labels_val = inputs.to(device), labels.to(device)\n",
    "                optimizer.zero_grad()\n",
    "                prediction = model(inputs_val)\n",
    "                loss = loss_fn(prediction, labels_val)\n",
    "                val_loss.append(np.round(loss.item(),3))\n",
    "                result = np.round(prediction.cpu())\n",
    "                total += labels_val.size(0)\n",
    "                correct += (result == labels_val.cpu()).sum().item()\n",
    "            val_accuracy_epoch.append(np.round((correct/total)*100, 3))\n",
    "            val_loss_epoch.append(np.round(np.mean(val_loss),3))\n",
    "            end = time.time() - start\n",
    "            final_val_acc = np.round((correct/total)*100, 3)\n",
    "            print(\"Val Loss: {:.3f}\".format(np.mean(val_loss)), \"\\tVal Acc: {:.3f}\".format(correct/total))\n",
    "            time_train.append(np.round(end,3))\n",
    "    write_to_csv(trial.number, epochs, train_loss_epoch, train_acc_epoch, val_loss_epoch, val_accuracy_epoch, time_train)\n",
    "    return final_val_acc\n"
   ]
  },
  {
   "cell_type": "code",
   "execution_count": 8,
   "metadata": {
    "id": "yM6NlQlNqA4h"
   },
   "outputs": [],
   "source": [
    "def callback(study, trial):\n",
    "    if study.best_trial.number == trial.number:\n",
    "        study.set_user_attr(key=\"best_model\", value=trial.user_attrs[\"best_model\"])"
   ]
  },
  {
   "cell_type": "code",
   "execution_count": 9,
   "metadata": {
    "colab": {
     "base_uri": "https://localhost:8080/"
    },
    "id": "QQ7svJFbqH5J",
    "outputId": "dd2b34de-5b0f-429d-be6f-31130956f6d4"
   },
   "outputs": [
    {
     "name": "stderr",
     "output_type": "stream",
     "text": [
      "\u001b[32m[I 2022-05-14 14:17:31,807]\u001b[0m A new study created in memory with name: no-name-be633316-4d7f-46a1-8864-63826046c124\u001b[0m\n"
     ]
    },
    {
     "name": "stdout",
     "output_type": "stream",
     "text": [
      "Epoch: 0, BCELoss: 0.5461156216012426\n",
      "Val Loss: 0.523 \tVal Acc: 0.763\n",
      "Epoch: 1, BCELoss: 0.51135969770601\n",
      "Val Loss: 0.499 \tVal Acc: 0.774\n",
      "Epoch: 2, BCELoss: 0.48986808676497046\n",
      "Val Loss: 0.478 \tVal Acc: 0.785\n",
      "Epoch: 3, BCELoss: 0.46383242201374236\n",
      "Val Loss: 0.442 \tVal Acc: 0.802\n",
      "Epoch: 4, BCELoss: 0.4155064238392445\n",
      "Val Loss: 0.383 \tVal Acc: 0.829\n",
      "Epoch: 5, BCELoss: 0.37122985979160633\n",
      "Val Loss: 0.346 \tVal Acc: 0.846\n",
      "Epoch: 6, BCELoss: 0.3404575882816171\n",
      "Val Loss: 0.325 \tVal Acc: 0.857\n",
      "Epoch: 7, BCELoss: 0.3209754641874727\n",
      "Val Loss: 0.312 \tVal Acc: 0.863\n",
      "Epoch: 8, BCELoss: 0.3075996730701033\n",
      "Val Loss: 0.304 \tVal Acc: 0.869\n",
      "Epoch: 9, BCELoss: 0.2976961928543197\n"
     ]
    },
    {
     "name": "stderr",
     "output_type": "stream",
     "text": [
      "\u001b[32m[I 2022-05-14 14:25:17,584]\u001b[0m Trial 0 finished with value: 87.313 and parameters: {'optimizer': 'SGD', 'lr': 0.010874802693711393, 'dropout': 0.5682104325709664, 'hidden_dim': 254, 'embedding_dim': 116}. Best is trial 0 with value: 87.313.\u001b[0m\n"
     ]
    },
    {
     "name": "stdout",
     "output_type": "stream",
     "text": [
      "Val Loss: 0.299 \tVal Acc: 0.873\n",
      "Epoch: 0, BCELoss: 0.3199236743960036\n",
      "Val Loss: 0.262 \tVal Acc: 0.887\n",
      "Epoch: 1, BCELoss: 0.23691224419478193\n",
      "Val Loss: 0.260 \tVal Acc: 0.889\n",
      "Epoch: 2, BCELoss: 0.19640724478536342\n",
      "Val Loss: 0.280 \tVal Acc: 0.888\n",
      "Epoch: 3, BCELoss: 0.1574494143947959\n",
      "Val Loss: 0.320 \tVal Acc: 0.887\n",
      "Epoch: 4, BCELoss: 0.12372976724305246\n",
      "Val Loss: 0.368 \tVal Acc: 0.882\n",
      "Epoch: 5, BCELoss: 0.10589253042476723\n",
      "Val Loss: 0.389 \tVal Acc: 0.883\n",
      "Epoch: 6, BCELoss: 0.08658481236625777\n",
      "Val Loss: 0.434 \tVal Acc: 0.877\n",
      "Epoch: 7, BCELoss: 0.07746649844844052\n",
      "Val Loss: 0.473 \tVal Acc: 0.877\n",
      "Epoch: 8, BCELoss: 0.07079962222256238\n",
      "Val Loss: 0.488 \tVal Acc: 0.876\n",
      "Epoch: 9, BCELoss: 0.06816943707533675\n"
     ]
    },
    {
     "name": "stderr",
     "output_type": "stream",
     "text": [
      "\u001b[32m[I 2022-05-14 14:31:32,432]\u001b[0m Trial 1 finished with value: 87.787 and parameters: {'optimizer': 'Adam', 'lr': 0.0034398882685020165, 'dropout': 0.35923198862861494, 'hidden_dim': 182, 'embedding_dim': 106}. Best is trial 1 with value: 87.787.\u001b[0m\n"
     ]
    },
    {
     "name": "stdout",
     "output_type": "stream",
     "text": [
      "Val Loss: 0.557 \tVal Acc: 0.878\n",
      "Epoch: 0, BCELoss: 0.6681768153087202\n",
      "Val Loss: 0.666 \tVal Acc: 0.728\n",
      "Epoch: 1, BCELoss: 0.6649147210350956\n",
      "Val Loss: 0.663 \tVal Acc: 0.739\n",
      "Epoch: 2, BCELoss: 0.661745415071407\n",
      "Val Loss: 0.660 \tVal Acc: 0.747\n",
      "Epoch: 3, BCELoss: 0.6586661715105355\n",
      "Val Loss: 0.657 \tVal Acc: 0.752\n",
      "Epoch: 4, BCELoss: 0.6556741523814489\n",
      "Val Loss: 0.654 \tVal Acc: 0.756\n",
      "Epoch: 5, BCELoss: 0.6527666318129344\n",
      "Val Loss: 0.651 \tVal Acc: 0.757\n",
      "Epoch: 6, BCELoss: 0.6499410415629306\n",
      "Val Loss: 0.649 \tVal Acc: 0.759\n",
      "Epoch: 7, BCELoss: 0.6471949192414801\n",
      "Val Loss: 0.646 \tVal Acc: 0.760\n",
      "Epoch: 8, BCELoss: 0.6445258286344\n",
      "Val Loss: 0.643 \tVal Acc: 0.761\n",
      "Epoch: 9, BCELoss: 0.6419314128806792\n"
     ]
    },
    {
     "name": "stderr",
     "output_type": "stream",
     "text": [
      "\u001b[32m[I 2022-05-14 14:35:19,413]\u001b[0m Trial 2 finished with value: 76.174 and parameters: {'optimizer': 'SGD', 'lr': 2.8481050168651027e-05, 'dropout': 0.48206345790778127, 'hidden_dim': 54, 'embedding_dim': 53}. Best is trial 1 with value: 87.787.\u001b[0m\n"
     ]
    },
    {
     "name": "stdout",
     "output_type": "stream",
     "text": [
      "Val Loss: 0.641 \tVal Acc: 0.762\n",
      "Epoch: 0, BCELoss: 0.4129483904195837\n",
      "Val Loss: 0.333 \tVal Acc: 0.860\n",
      "Epoch: 1, BCELoss: 0.3057105082614594\n",
      "Val Loss: 0.299 \tVal Acc: 0.875\n",
      "Epoch: 2, BCELoss: 0.27737717408103396\n",
      "Val Loss: 0.284 \tVal Acc: 0.881\n",
      "Epoch: 3, BCELoss: 0.2595238980534206\n",
      "Val Loss: 0.277 \tVal Acc: 0.884\n",
      "Epoch: 4, BCELoss: 0.24625234601637686\n",
      "Val Loss: 0.273 \tVal Acc: 0.885\n",
      "Epoch: 5, BCELoss: 0.23446142446384372\n",
      "Val Loss: 0.274 \tVal Acc: 0.889\n",
      "Epoch: 6, BCELoss: 0.22363027632460897\n",
      "Val Loss: 0.276 \tVal Acc: 0.888\n",
      "Epoch: 7, BCELoss: 0.2130962702120284\n",
      "Val Loss: 0.280 \tVal Acc: 0.888\n",
      "Epoch: 8, BCELoss: 0.20342976190149784\n",
      "Val Loss: 0.284 \tVal Acc: 0.887\n",
      "Epoch: 9, BCELoss: 0.19308487379990788\n"
     ]
    },
    {
     "name": "stderr",
     "output_type": "stream",
     "text": [
      "\u001b[32m[I 2022-05-14 14:40:11,080]\u001b[0m Trial 3 finished with value: 88.633 and parameters: {'optimizer': 'Adam', 'lr': 0.00021848264157464222, 'dropout': 0.5288820827983397, 'hidden_dim': 106, 'embedding_dim': 67}. Best is trial 3 with value: 88.633.\u001b[0m\n"
     ]
    },
    {
     "name": "stdout",
     "output_type": "stream",
     "text": [
      "Val Loss: 0.294 \tVal Acc: 0.886\n",
      "Epoch: 0, BCELoss: 0.5923364323126264\n",
      "Val Loss: 0.519 \tVal Acc: 0.762\n",
      "Epoch: 1, BCELoss: 0.4909926176430231\n",
      "Val Loss: 0.471 \tVal Acc: 0.772\n",
      "Epoch: 2, BCELoss: 0.4557159566915179\n",
      "Val Loss: 0.445 \tVal Acc: 0.785\n",
      "Epoch: 3, BCELoss: 0.43373278821089184\n",
      "Val Loss: 0.427 \tVal Acc: 0.797\n",
      "Epoch: 4, BCELoss: 0.4155030656561076\n",
      "Val Loss: 0.411 \tVal Acc: 0.810\n",
      "Epoch: 5, BCELoss: 0.398856950901359\n",
      "Val Loss: 0.395 \tVal Acc: 0.822\n",
      "Epoch: 6, BCELoss: 0.38297326900513773\n",
      "Val Loss: 0.381 \tVal Acc: 0.832\n",
      "Epoch: 7, BCELoss: 0.36760327456945396\n",
      "Val Loss: 0.366 \tVal Acc: 0.840\n",
      "Epoch: 8, BCELoss: 0.3526868577193783\n",
      "Val Loss: 0.352 \tVal Acc: 0.847\n",
      "Epoch: 9, BCELoss: 0.33878418424402373\n"
     ]
    },
    {
     "name": "stderr",
     "output_type": "stream",
     "text": [
      "\u001b[32m[I 2022-05-14 14:44:55,261]\u001b[0m Trial 4 finished with value: 85.202 and parameters: {'optimizer': 'RMSprop', 'lr': 2.0204359256865862e-05, 'dropout': 0.26229236255869115, 'hidden_dim': 94, 'embedding_dim': 95}. Best is trial 3 with value: 88.633.\u001b[0m\n"
     ]
    },
    {
     "name": "stdout",
     "output_type": "stream",
     "text": [
      "Val Loss: 0.340 \tVal Acc: 0.852\n",
      "Epoch: 0, BCELoss: 23.175059481952562\n",
      "Val Loss: 23.198 \tVal Acc: 0.766\n",
      "Epoch: 1, BCELoss: 23.24055723282228\n",
      "Val Loss: 23.194 \tVal Acc: 0.767\n",
      "Epoch: 2, BCELoss: 23.270304251291666\n",
      "Val Loss: 23.337 \tVal Acc: 0.766\n",
      "Epoch: 3, BCELoss: 23.512851976486573\n",
      "Val Loss: 23.690 \tVal Acc: 0.763\n",
      "Epoch: 4, BCELoss: 23.57066024872194\n",
      "Val Loss: 23.717 \tVal Acc: 0.763\n",
      "Epoch: 5, BCELoss: 23.57212242563087\n",
      "Val Loss: 23.722 \tVal Acc: 0.763\n",
      "Epoch: 6, BCELoss: 23.56920702486153\n",
      "Val Loss: 23.727 \tVal Acc: 0.763\n",
      "Epoch: 7, BCELoss: 23.573567312309542\n",
      "Val Loss: 23.725 \tVal Acc: 0.763\n",
      "Epoch: 8, BCELoss: 23.572156287963132\n",
      "Val Loss: 23.711 \tVal Acc: 0.763\n",
      "Epoch: 9, BCELoss: 23.594468510294536\n"
     ]
    },
    {
     "name": "stderr",
     "output_type": "stream",
     "text": [
      "\u001b[32m[I 2022-05-14 14:52:19,366]\u001b[0m Trial 5 finished with value: 76.265 and parameters: {'optimizer': 'Adam', 'lr': 0.815005993880748, 'dropout': 0.14754807477079482, 'hidden_dim': 247, 'embedding_dim': 55}. Best is trial 3 with value: 88.633.\u001b[0m\n"
     ]
    },
    {
     "name": "stdout",
     "output_type": "stream",
     "text": [
      "Val Loss: 23.729 \tVal Acc: 0.763\n"
     ]
    }
   ],
   "source": [
    "import optuna\n",
    "from optuna.trial import TrialState\n",
    "study = optuna.create_study(direction=\"maximize\",pruner=optuna.pruners.HyperbandPruner(\n",
    "        min_resource=1, max_resource=epochs, reduction_factor=3\n",
    "    ),)\n",
    "study.optimize(objective, n_trials=6,callbacks=[callback])\n"
   ]
  },
  {
   "cell_type": "code",
   "execution_count": 10,
   "metadata": {},
   "outputs": [
    {
     "name": "stdout",
     "output_type": "stream",
     "text": [
      "Study statistics: \n",
      "  Number of finished trials:  6\n",
      "  Number of complete trials:  6\n",
      "Best trial:\n",
      "  Value:  88.633\n",
      "  Params: \n",
      "    optimizer: Adam\n",
      "    lr: 0.00021848264157464222\n",
      "    dropout: 0.5288820827983397\n",
      "    hidden_dim: 106\n",
      "    embedding_dim: 67\n"
     ]
    }
   ],
   "source": [
    "complete_trials = study.get_trials(deepcopy=False, states=[TrialState.COMPLETE])\n",
    "print(\"Study statistics: \")\n",
    "print(\"  Number of finished trials: \", len(study.trials))\n",
    "print(\"  Number of complete trials: \", len(complete_trials))\n",
    "print(\"Best trial:\")\n",
    "trial = study.best_trial\n",
    "best_model=study.user_attrs[\"best_model\"]\n",
    "print(\"  Value: \", trial.value)\n",
    "print(\"  Params: \")\n",
    "for key, value in trial.params.items():\n",
    "    print(\"    {}: {}\".format(key, value))"
   ]
  },
  {
   "cell_type": "code",
   "execution_count": 11,
   "metadata": {},
   "outputs": [],
   "source": [
    "data_dir = './lstm-amazon-hyperband/' # The folder we will use for storing data\n",
    "if not os.path.exists(data_dir): # Make sure that the folder exists\n",
    "    os.makedirs(data_dir)\n",
    "\n",
    "torch.save(best_model.state_dict(),\"./lstm-amazon-hyperband/lstm_amazon_hyperband.pth\")"
   ]
  },
  {
   "cell_type": "code",
   "execution_count": 12,
   "metadata": {
    "id": "2D2JfLBeKjQ0"
   },
   "outputs": [],
   "source": [
    "def test(model, test_dl, epochs):\n",
    "    model.eval()\n",
    "    correct = 0\n",
    "    total = 0\n",
    "#     results = []\n",
    "#     labels = []\n",
    "    with torch.no_grad():\n",
    "        for batch in test_dl:         \n",
    "            batch_X, batch_y = batch\n",
    "            batch_X = batch_X.to(device)\n",
    "            prediction = model(batch_X)\n",
    "            result = np.round(prediction.cpu())\n",
    "#             results.extend(list(result.numpy()))\n",
    "#             labels.extend(list(batch_y.numpy()))\n",
    "            total += batch_y.size(0)\n",
    "            correct += (result == batch_y).sum().item()\n",
    "    print(\"Accuracy:\", correct/total)"
   ]
  },
  {
   "cell_type": "code",
   "execution_count": 13,
   "metadata": {
    "id": "vR_FTuLSby1Y"
   },
   "outputs": [
    {
     "name": "stderr",
     "output_type": "stream",
     "text": [
      "/ext3/miniconda3/lib/python3.9/site-packages/torch/nn/modules/rnn.py:691: UserWarning: RNN module weights are not part of single contiguous chunk of memory. This means they need to be compacted at every call, possibly greatly increasing memory usage. To compact weights again call flatten_parameters(). (Triggered internally at  ../aten/src/ATen/native/cudnn/RNN.cpp:925.)\n",
      "  result = _VF.lstm(input, hx, self._flat_weights, self.bias, self.num_layers,\n"
     ]
    },
    {
     "name": "stdout",
     "output_type": "stream",
     "text": [
      "Accuracy: 0.8833166469463912\n"
     ]
    }
   ],
   "source": [
    "test(best_model, test_dl, epochs)"
   ]
  },
  {
   "cell_type": "code",
   "execution_count": null,
   "metadata": {},
   "outputs": [],
   "source": []
  }
 ],
 "metadata": {
  "accelerator": "GPU",
  "colab": {
   "name": "lstm-amazon-hyperband.ipynb",
   "provenance": []
  },
  "kernelspec": {
   "display_name": "my_env2_gpu",
   "language": "python",
   "name": "my_env2_gpu"
  },
  "language_info": {
   "codemirror_mode": {
    "name": "ipython",
    "version": 3
   },
   "file_extension": ".py",
   "mimetype": "text/x-python",
   "name": "python",
   "nbconvert_exporter": "python",
   "pygments_lexer": "ipython3",
   "version": "3.9.7"
  }
 },
 "nbformat": 4,
 "nbformat_minor": 2
}
