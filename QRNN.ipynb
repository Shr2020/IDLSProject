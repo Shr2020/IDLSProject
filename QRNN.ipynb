{
 "cells": [
  {
   "cell_type": "code",
   "execution_count": 5,
   "metadata": {},
   "outputs": [],
   "source": [
    "import pickle\n",
    "import os\n",
    "\n",
    "cache_dir = os.path.join(\"./cache\", \"sentiment_analysis\")  # where to store cache files\n",
    "os.makedirs(cache_dir, exist_ok=True)  # ensure cache directory exists\n",
    "\n",
    "def preprocess_data(cache_dir=cache_dir, cache_file=\"preprocessed_data.pkl\"):\n",
    "    \"\"\"Convert each review to words; read from cache if available.\"\"\"\n",
    "\n",
    "    # If cache_file is not None, try to read from it first\n",
    "    cache_data = None\n",
    "    if cache_file is not None:\n",
    "        try:\n",
    "            with open(os.path.join(cache_dir, cache_file), \"rb\") as f:\n",
    "                cache_data = pickle.load(f)\n",
    "            print(\"Read preprocessed data from cache file:\", cache_file)\n",
    "        except:\n",
    "            pass  # unable to read from cache, but that's okay\n",
    "    \n",
    "    # If cache is missing, then do the heavy lifting\n",
    "    if cache_data is None:\n",
    "        print(\"CACHE NOT FOUND\")\n",
    "        words_train = [review_to_words(review) for review in data_train]\n",
    "        words_test = [review_to_words(review) for review in data_test]\n",
    "        \n",
    "        # Write to cache file for future runs\n",
    "        if cache_file is not None:\n",
    "            cache_data = dict(words_train=words_train, words_test=words_test,\n",
    "                              labels_train=labels_train, labels_test=labels_test)\n",
    "            with open(os.path.join(cache_dir, cache_file), \"wb\") as f:\n",
    "                pickle.dump(cache_data, f)\n",
    "            print(\"Wrote preprocessed data to cache file:\", cache_file)\n",
    "    else:\n",
    "        # Unpack data loaded from cache file\n",
    "        words_train, words_test, labels_train, labels_test = (cache_data['words_train'],\n",
    "                cache_data['words_test'], cache_data['labels_train'], cache_data['labels_test'])\n",
    "    \n",
    "    return words_train, words_test, labels_train, labels_test"
   ]
  },
  {
   "cell_type": "code",
   "execution_count": 6,
   "metadata": {},
   "outputs": [
    {
     "name": "stdout",
     "output_type": "stream",
     "text": [
      "Read preprocessed data from cache file: preprocessed_data.pkl\n"
     ]
    },
    {
     "data": {
      "text/plain": [
       "(50000, 50000)"
      ]
     },
     "execution_count": 6,
     "metadata": {},
     "output_type": "execute_result"
    }
   ],
   "source": [
    "train_X, test_X, train_y, test_y = preprocess_data()\n",
    "type(train_X), type(train_y)\n",
    "train_X.extend(test_X)\n",
    "train_y.extend(test_y)\n",
    "len(train_X), len(train_y)"
   ]
  },
  {
   "cell_type": "code",
   "execution_count": 7,
   "metadata": {},
   "outputs": [],
   "source": [
    "import random\n",
    "type(train_X), type(train_y)\n",
    "temp = list(zip(train_X, train_y))\n",
    "random.shuffle(temp)\n",
    "train_X, train_y = zip(*temp)\n",
    "# res1 and res2 come out as tuples, and so must be converted to lists.\n",
    "train_X, train_y = list(train_X), list(train_y)"
   ]
  },
  {
   "cell_type": "code",
   "execution_count": 8,
   "metadata": {},
   "outputs": [
    {
     "name": "stdout",
     "output_type": "stream",
     "text": [
      "50000\n",
      "30000 30000 20000 20000\n",
      "['basic', 'like', 'verhoeven', 'film', 'film', 'enjoy', 'brilliant', 'pscychosexu', 'stori', 'seen', 'basic', 'instinct', 'realli', 'wonder', 'thriller', 'enjoy', 'much', 'obvious', 'watch', 'anoth', 'verhoeven', 'movi', 'well', 'previou', 'direct', 'block', 'buster', 'hit', 'basic', 'instinct', 'much', 'curiou', 'watch', 'movi', 'yeah', 'movi', 'fulfil', 'hope', 'expect', 'movi', 'fourth', 'man', 'brilliant', 'pscychosexu', 'drama', 'lit', 'bit', 'complex', 'audienc', 'stori', 'movi', 'gay', 'writer', 'name', 'reve', 'krabb', 'alcohol', 'person', 'live', 'moral', 'valu', 'see', 'mani', 'vision', 'may', 'warn', 'futur', 'accid', 'end', 'lectur', 'introduc', 'seduct', 'woman', 'name', 'christin', 'mysteri', 'past', 'want', 'reveal', 'reve', 'sex', 'hous', 'boy', 'next', 'morn', 'watch', 'sexi', 'macho', 'boyfriend', 'pictur', 'tabl', 'person', 'met', 'station', 'curiou', 'meet', 'tell', 'christin', 'invit', 'hous', 'want', 'reveal', 'entir', 'stori', 'verhoeven', 'movi', 'end', 'film', 'realli', 'surpris', 'especi', 'like', 'charact', 'reve', 'brilliantli', 'play', 'krabb', 'basic', 'like', 'act', 'gay', 'person', 'pure', 'identifi', 'charact', 'yeah', 'like', 'charm', 'face', 'would', 'like', 'thank', 'mr', 'verhoeven', 'make', 'black', 'comedi', 'rate', 'movi', '10', '10'] ['7', 'kid', '6', 'claim', 'adult', 'semi', 'sequel', 'lion', 'king', 'see', 'spin', 'side', 'charact', 'timon', 'pumba', 'retel', 'origin', 'stori', 'eye', 'includ', 'stori', 'met', 'grand', 'tradit', 'disney', 'inferior', 'sequel', 'made', 'occasion', 'tv', 'seri', 'featur', 'adventur', 'minor', 'charact', 'biggest', 'hit', 'sceptic', 'want', 'kid', 'fan', 'seri', 'like', 'care', 'enough', 'joke', 'song', 'interest', 'thing', 'ensur', 'one', 'averag', 'sequel', 'work', 'charm', 'much', 'love', 'central', 'charact', 'quick', 'pace', 'joke', 'involv', 'first', 'film', 'older', 'viewer', 'funni', 'gag', 'anim', 'good', 'ever', 'littl', 'less', 'flamboy', 'origin', 'plot', 'take', 'easi', 'hakuna', 'matata', 'timon', 'pumba', 'decid', 'watch', 'event', 'first', 'film', 'frequent', 'stop', 'mid', 'film', 'joke', 'part', 'like', 'real', 'audienc', 'see', 'timon', 'near', 'outcast', 'feel', 'fit', 'decid', 'go', 'look', 'beyond', 'see', 'find', 'ideal', 'home', 'way', 'meet', 'pumba', 'anoth', 'outcast', 'becom', 'friend', 'soon', 'meet', 'simba', 'lion', 'cub', 'natur', 'predat', 'p', 'form', 'trio', 'howev', 'simba', 'realis', 'must', 'follow', 'destini', 'leav', 'group', 'other', 'decid', 'whether', 'help', 'cours', 'usual', 'disney', 'element', 'theme', 'friendship', 'good', 'versu', 'evil', 'etc', 'plot', 'simpl', 'work', 'mani', 'level', 'make', 'smarter', 'averag', 'anim', 'movi', 'cg', 'movi', 'appear', 'disney', 'tradit', 'form', 'must', 'becom', 'smarter', 'forget', 'root', 'made', 'popular', 'toy', 'stori', 'come', 'sinc', 'clever', 'joke', 'suit', 'age', 'seem', 'way', 'market', 'shift', 'howev', 'alway', 'place', 'film', 'like', 'cannot', 'go', 'wrong', 'buy', 'youngster', '7', '10'] 1 1\n"
     ]
    }
   ],
   "source": [
    "\n",
    "type(train_X), type(train_y)\n",
    "print(len(train_X))\n",
    "train_list = train_X[:30000]\n",
    "train_labels_list = train_y[:30000]\n",
    "test_list = train_X[30000:]\n",
    "test_labels_list = train_y[30000:]\n",
    "print(len(train_list), len(train_labels_list), len(test_list), len(test_labels_list))\n",
    "print(train_list[0], test_list[0], train_labels_list[0], test_labels_list[0])"
   ]
  },
  {
   "cell_type": "code",
   "execution_count": 9,
   "metadata": {},
   "outputs": [],
   "source": [
    "import numpy as np\n",
    "\n",
    "def build_dict(data, vocab_size = 5000):\n",
    "    word_count = {} # A dict storing the words that appear in the reviews along with how often they occur\n",
    "    for sentence in data:\n",
    "        for word in sentence:\n",
    "            if word in word_count.keys():\n",
    "                word_count[word] = word_count[word] + 1\n",
    "            else:\n",
    "                word_count[word] = 1\n",
    "   \n",
    "    sorted_words = {k: v for k, v in sorted(word_count.items(), key=lambda item: item[1], reverse=True)}\n",
    "    sorted_words = [word for word in sorted_words.keys()]\n",
    "    word_dict = {} # This is what we are building, a dictionary that translates words into integers\n",
    "\n",
    "    for idx, word in enumerate(sorted_words[:vocab_size - 2]): # The -2 is so that we save room for the 'no word'\n",
    "        word_dict[word] = idx + 2                              # 'infrequent' labels\n",
    "        \n",
    "    return word_dict\n",
    "\n",
    "def convert_and_pad(word_dict, sentence, pad=500):\n",
    "    NOWORD = 0 # We will use 0 to represent the 'no word' category\n",
    "    INFREQ = 1 # and we use 1 to represent the infrequent words, i.e., words not appearing in word_dict\n",
    "    \n",
    "    working_sentence = [NOWORD] * pad\n",
    "    \n",
    "    for word_index, word in enumerate(sentence[:pad]):\n",
    "        if word in word_dict:\n",
    "            working_sentence[word_index] = word_dict[word]\n",
    "        else:\n",
    "            working_sentence[word_index] = INFREQ\n",
    "            \n",
    "    return working_sentence, min(len(sentence), pad)\n",
    "\n",
    "def convert_and_pad_data(word_dict, data, pad=500):\n",
    "    result = []\n",
    "    lengths = []\n",
    "    \n",
    "    for sentence in data:\n",
    "        converted, leng = convert_and_pad(word_dict, sentence, pad)\n",
    "        result.append(converted)\n",
    "        lengths.append(leng)\n",
    "        \n",
    "    return np.array(result), np.array(lengths)"
   ]
  },
  {
   "cell_type": "code",
   "execution_count": 10,
   "metadata": {},
   "outputs": [],
   "source": [
    "word_dict = build_dict(train_list)"
   ]
  },
  {
   "cell_type": "code",
   "execution_count": 11,
   "metadata": {},
   "outputs": [],
   "source": [
    "data_dir = './data/pytorch' # The folder we will use for storing data\n",
    "if not os.path.exists(data_dir): # Make sure that the folder exists\n",
    "    os.makedirs(data_dir)"
   ]
  },
  {
   "cell_type": "code",
   "execution_count": 12,
   "metadata": {},
   "outputs": [],
   "source": [
    "with open(os.path.join(data_dir, 'word_dict_qrnn.pkl'), \"wb\") as f:\n",
    "    pickle.dump(word_dict, f)"
   ]
  },
  {
   "cell_type": "code",
   "execution_count": 13,
   "metadata": {},
   "outputs": [],
   "source": [
    "train_X, train_X_len = convert_and_pad_data(word_dict, train_list)\n",
    "test_X, test_X_len = convert_and_pad_data(word_dict, test_list)\n"
   ]
  },
  {
   "cell_type": "code",
   "execution_count": 14,
   "metadata": {},
   "outputs": [
    {
     "name": "stdout",
     "output_type": "stream",
     "text": [
      "(30000, 500) 30000\n",
      "(20000, 500) 20000\n",
      "1\n"
     ]
    }
   ],
   "source": [
    "print(train_X.shape, len(train_X_len))\n",
    "print(test_X.shape, len(test_X_len))\n",
    "print(train_y[0])"
   ]
  },
  {
   "cell_type": "code",
   "execution_count": 15,
   "metadata": {},
   "outputs": [],
   "source": [
    "import pandas as pd\n",
    "pd.concat([pd.DataFrame(train_labels_list), pd.DataFrame(train_X_len), pd.DataFrame(train_X)], axis=1).to_csv(os.path.join(data_dir, 'train_qrnn.csv'), header=False, index=False)\n",
    "pd.concat([pd.DataFrame(test_labels_list), pd.DataFrame(test_X_len), pd.DataFrame(test_X)], axis=1).to_csv(os.path.join(data_dir, 'test_qrnn.csv'), header=False, index=False)"
   ]
  },
  {
   "cell_type": "markdown",
   "metadata": {},
   "source": [
    "# If Files present start from here"
   ]
  },
  {
   "cell_type": "code",
   "execution_count": 1,
   "metadata": {},
   "outputs": [],
   "source": [
    "import pandas as pd\n",
    "import os\n",
    "import pickle\n",
    "import numpy as np\n",
    "\n",
    "data_dir = './data/pytorch'\n",
    "with open(os.path.join(data_dir, 'word_dict_qrnn.pkl'), \"rb\") as f:\n",
    "    word_dict = pickle.load(f)"
   ]
  },
  {
   "cell_type": "code",
   "execution_count": 2,
   "metadata": {},
   "outputs": [
    {
     "name": "stdout",
     "output_type": "stream",
     "text": [
      "(30000, 502) (20000, 502)\n"
     ]
    }
   ],
   "source": [
    "import pandas as pd\n",
    "import os\n",
    "train = pd.read_csv(os.path.join(data_dir, 'train_qrnn.csv'), header=None, names=None)\n",
    "test_sample = pd.read_csv(os.path.join(data_dir, 'test_qrnn.csv'), header=None, names=None)\n",
    "print(train.shape, test_sample.shape)"
   ]
  },
  {
   "cell_type": "code",
   "execution_count": 3,
   "metadata": {},
   "outputs": [
    {
     "data": {
      "text/plain": [
       "((30000, 502), (10000, 502), (10000, 502))"
      ]
     },
     "execution_count": 3,
     "metadata": {},
     "output_type": "execute_result"
    }
   ],
   "source": [
    "from sklearn.model_selection import train_test_split\n",
    "test, val = train_test_split(test_sample, test_size=0.5)\n",
    "train.shape, test.shape, val.shape"
   ]
  },
  {
   "cell_type": "code",
   "execution_count": 4,
   "metadata": {},
   "outputs": [
    {
     "name": "stdout",
     "output_type": "stream",
     "text": [
      "torch.Size([10000, 1])\n"
     ]
    }
   ],
   "source": [
    "import torch\n",
    "import torch.utils.data\n",
    "\n",
    "# Turn the input pandas dataframe into tensors\n",
    "train_y = torch.from_numpy(train[[0]].values).float()\n",
    "train_X = torch.from_numpy(train.drop([0, 1], axis=1).values).long()\n",
    "\n",
    "# Build the dataset\n",
    "train_ds = torch.utils.data.TensorDataset(train_X, train_y)\n",
    "# Build the dataloader\n",
    "train_dl = torch.utils.data.DataLoader(train_ds, batch_size=50)\n",
    "\n",
    "######val data\n",
    "# Turn the input pandas dataframe into tensors\n",
    "val_y = torch.from_numpy(val[[0]].values).float()\n",
    "val_X = torch.from_numpy(val.drop([0, 1], axis=1).values).long()\n",
    "\n",
    "# Build the dataset\n",
    "val_ds = torch.utils.data.TensorDataset(val_X, val_y)\n",
    "# Build the dataloader\n",
    "val_dl = torch.utils.data.DataLoader(val_ds, batch_size=50)\n",
    "\n",
    "\n",
    "#### Test data\n",
    "# Turn the input pandas dataframe into tensors\n",
    "test_y = torch.from_numpy(test[[0]].values).float()\n",
    "test_X = torch.from_numpy(test.drop([0, 1], axis=1).values).long()\n",
    "\n",
    "# Build the dataset\n",
    "test_ds = torch.utils.data.TensorDataset(test_X, test_y)\n",
    "# Build the dataloader\n",
    "test_dl = torch.utils.data.DataLoader(test_ds, batch_size=50)\n",
    "print(test_y.shape)"
   ]
  },
  {
   "cell_type": "code",
   "execution_count": 5,
   "metadata": {},
   "outputs": [],
   "source": [
    "import torch.nn as nn\n",
    "from torch.autograd import Variable\n",
    "from torch import optim\n",
    "import torch.nn.functional as F\n",
    "\n",
    "class QRNNLayer(nn.Module):\n",
    "    def __init__(self,batch_size,input_size,n_filters,kernel_size,embed_size,device,dropout):\n",
    "        super(QRNNLayer,self).__init__()\n",
    "        self.batch_size = batch_size\n",
    "        self.input_size = input_size\n",
    "        self.n_filters = n_filters\n",
    "        self.kernel_size = kernel_size\n",
    "        self.embed_size = embed_size\n",
    "        self.dropout = torch.nn.Dropout(dropout)\n",
    "        self.device = device\n",
    "        self.conv1 = torch.nn.Conv1d(self.input_size,self.n_filters,self.kernel_size)\n",
    "        self.conv2 = torch.nn.Conv1d(self.input_size,self.n_filters,self.kernel_size)\n",
    "        self.conv3 = torch.nn.Conv1d(self.input_size,self.n_filters,self.kernel_size)\n",
    "    \n",
    "    def forward(self,masked_input, h, c):\n",
    "        Z,F,O = self.masked_conv(masked_input)\n",
    "        h, c = self.pool(c,Z,F,O)\n",
    "        masked_input = h\n",
    "        return masked_input,h,c\n",
    "    \n",
    "    def masked_conv(self,x):\n",
    "        pad = torch.zeros([self.batch_size,1,self.input_size],device=self.device)\n",
    "        x = torch.cat([pad,x],1).permute(0,2,1)\n",
    "        Z = torch.tanh((self.conv1(x)))\n",
    "        F = torch.sigmoid((self.conv2(x)))\n",
    "        O = torch.sigmoid((self.conv3(x)))\n",
    "        one_mask = torch.ones_like(F,device=self.device) - F\n",
    "        F = 1 - self.dropout(one_mask)\n",
    "        return Z.permute(0,2,1), F.permute(0,2,1), O.permute(0,2,1)\n",
    "    \n",
    "    def pool(self, prev_c,Z,F,O):\n",
    "        c = torch.mul(F,prev_c) + torch.mul(1-F,Z)\n",
    "        h = torch.mul(O,c)\n",
    "        return h,c\n",
    "\n",
    "class QRNN(nn.Module):\n",
    "    def __init__(self,vocab_size,embed_size,n_filters,kernel_size,batch_size,seq_len,layers,device,dropout):\n",
    "        super(QRNN,self).__init__()\n",
    "        self.embed_size = embed_size\n",
    "        self.n_filters = n_filters\n",
    "        self.kernel_size = kernel_size\n",
    "        self.batch_size = batch_size\n",
    "        self.seq_len = seq_len\n",
    "        self.num_layer = layers\n",
    "        self.device = device\n",
    "        self.embedding = torch.nn.Embedding(vocab_size, embed_size)\n",
    "        self.dense = torch.nn.Linear(self.seq_len*self.n_filters,1)\n",
    "        self.QRNN_layers = torch.nn.ModuleList([QRNNLayer(self.batch_size,embed_size if l==0 else n_filters,\n",
    "                                                         self.n_filters,self.kernel_size,self.embed_size,self.device,\n",
    "                                                         dropout,) for l in range(self.num_layer)])\n",
    "        \n",
    "        \n",
    "    def forward(self, x, target):\n",
    "        x = self.embedding(x)\n",
    "        h = torch.zeros([self.batch_size,self.seq_len,self.n_filters],device=self.device)\n",
    "        c = torch.zeros_like(h,device=self.device)\n",
    "        \n",
    "        masked_input = x\n",
    "        for l,layer in enumerate(self.QRNN_layers):\n",
    "            masked_input,h,c = layer(masked_input,h,c)\n",
    "        dense_input = h.reshape([self.batch_size,-1])\n",
    "        logits = self.dense(dense_input)\n",
    "        prediction = torch.sigmoid(logits)\n",
    "        target = target.view([-1,1])\n",
    "        correct_pred = torch.eq(torch.round(prediction).type(target.type()),target)\n",
    "        accuracy = torch.sum(correct_pred)\n",
    "        return prediction, accuracy"
   ]
  },
  {
   "cell_type": "code",
   "execution_count": 6,
   "metadata": {},
   "outputs": [],
   "source": [
    "# write to file.\n",
    "filename = \"QRNN_imdb.csv\"\n",
    "def write_to_csv(epochs, train_loss, train_acc, val_loss, val_acc, time_train):\n",
    "    epoch = [i for i in range(epochs)]\n",
    "    df_metrics = pd.DataFrame(list(zip(epoch, train_loss, train_acc, val_loss, val_acc, time_train)), columns =['Epoch', 'train_loss', 'train_acc', 'val_loss', 'val_acc', 'train_time'])\n",
    "    df_metrics.to_csv(filename, index=False)\n",
    "    \n",
    "def append_to_csv(epochs, accuracy):\n",
    "    acc = [accuracy for i in range(epochs)]\n",
    "    df_csv = pd.read_csv(filename)\n",
    "    df_csv['Test_Accuracy']  = acc\n",
    "    df_csv.to_csv(filename, index=False)"
   ]
  },
  {
   "cell_type": "code",
   "execution_count": 11,
   "metadata": {},
   "outputs": [
    {
     "name": "stdout",
     "output_type": "stream",
     "text": [
      "4998\n",
      "5000\n",
      "Epoch: 0/10 \tIteration: 0 \tTrain Loss: 0.699 \tTrain Accuracy: 42.00\n",
      "Epoch: 0/10 \tIteration: 100 \tTrain Loss: 0.704 \tTrain Accuracy: 40.00\n",
      "Epoch: 0/10 \tIteration: 200 \tTrain Loss: 0.635 \tTrain Accuracy: 62.00\n",
      "Epoch: 0/10 \tIteration: 300 \tTrain Loss: 0.594 \tTrain Accuracy: 68.00\n",
      "Epoch: 0/10 \tIteration: 400 \tTrain Loss: 0.411 \tTrain Accuracy: 78.00\n",
      "Epoch: 0/10 \tIteration: 500 \tTrain Loss: 0.301 \tTrain Accuracy: 90.00\n",
      "\tTrain Loss: 0.558 \tTrain Acc: 68.697\n",
      "Val Loss: 0.403 \tVal Acc: 82.160\n",
      "Time to train epoch: 4.944586992263794 s\n",
      "Epoch: 1/10 \tIteration: 600 \tTrain Loss: 0.286 \tTrain Accuracy: 88.00\n",
      "Epoch: 1/10 \tIteration: 700 \tTrain Loss: 0.349 \tTrain Accuracy: 88.00\n",
      "Epoch: 1/10 \tIteration: 800 \tTrain Loss: 0.402 \tTrain Accuracy: 84.00\n",
      "Epoch: 1/10 \tIteration: 900 \tTrain Loss: 0.361 \tTrain Accuracy: 88.00\n",
      "Epoch: 1/10 \tIteration: 1000 \tTrain Loss: 0.264 \tTrain Accuracy: 88.00\n",
      "Epoch: 1/10 \tIteration: 1100 \tTrain Loss: 0.241 \tTrain Accuracy: 94.00\n",
      "\tTrain Loss: 0.344 \tTrain Acc: 85.410\n",
      "Val Loss: 0.339 \tVal Acc: 85.350\n",
      "Time to train epoch: 4.9516825675964355 s\n",
      "Epoch: 2/10 \tIteration: 1200 \tTrain Loss: 0.180 \tTrain Accuracy: 94.00\n",
      "Epoch: 2/10 \tIteration: 1300 \tTrain Loss: 0.290 \tTrain Accuracy: 88.00\n",
      "Epoch: 2/10 \tIteration: 1400 \tTrain Loss: 0.280 \tTrain Accuracy: 88.00\n",
      "Epoch: 2/10 \tIteration: 1500 \tTrain Loss: 0.289 \tTrain Accuracy: 90.00\n",
      "Epoch: 2/10 \tIteration: 1600 \tTrain Loss: 0.214 \tTrain Accuracy: 90.00\n",
      "Epoch: 2/10 \tIteration: 1700 \tTrain Loss: 0.178 \tTrain Accuracy: 94.00\n",
      "\tTrain Loss: 0.275 \tTrain Acc: 88.817\n",
      "Val Loss: 0.321 \tVal Acc: 86.590\n",
      "Time to train epoch: 4.63345193862915 s\n",
      "Epoch: 3/10 \tIteration: 1800 \tTrain Loss: 0.173 \tTrain Accuracy: 94.00\n",
      "Epoch: 3/10 \tIteration: 1900 \tTrain Loss: 0.253 \tTrain Accuracy: 90.00\n",
      "Epoch: 3/10 \tIteration: 2000 \tTrain Loss: 0.236 \tTrain Accuracy: 90.00\n",
      "Epoch: 3/10 \tIteration: 2100 \tTrain Loss: 0.292 \tTrain Accuracy: 90.00\n",
      "Epoch: 3/10 \tIteration: 2200 \tTrain Loss: 0.142 \tTrain Accuracy: 94.00\n",
      "Epoch: 3/10 \tIteration: 2300 \tTrain Loss: 0.128 \tTrain Accuracy: 96.00\n",
      "\tTrain Loss: 0.229 \tTrain Acc: 90.737\n",
      "Val Loss: 0.321 \tVal Acc: 87.010\n",
      "Time to train epoch: 4.330857515335083 s\n",
      "Epoch: 4/10 \tIteration: 2400 \tTrain Loss: 0.117 \tTrain Accuracy: 98.00\n",
      "Epoch: 4/10 \tIteration: 2500 \tTrain Loss: 0.195 \tTrain Accuracy: 92.00\n",
      "Epoch: 4/10 \tIteration: 2600 \tTrain Loss: 0.208 \tTrain Accuracy: 88.00\n",
      "Epoch: 4/10 \tIteration: 2700 \tTrain Loss: 0.215 \tTrain Accuracy: 94.00\n",
      "Epoch: 4/10 \tIteration: 2800 \tTrain Loss: 0.138 \tTrain Accuracy: 94.00\n",
      "Epoch: 4/10 \tIteration: 2900 \tTrain Loss: 0.138 \tTrain Accuracy: 92.00\n",
      "\tTrain Loss: 0.192 \tTrain Acc: 92.490\n",
      "Val Loss: 0.333 \tVal Acc: 87.030\n",
      "Time to train epoch: 4.307647943496704 s\n",
      "Epoch: 5/10 \tIteration: 3000 \tTrain Loss: 0.109 \tTrain Accuracy: 98.00\n",
      "Epoch: 5/10 \tIteration: 3100 \tTrain Loss: 0.158 \tTrain Accuracy: 94.00\n",
      "Epoch: 5/10 \tIteration: 3200 \tTrain Loss: 0.190 \tTrain Accuracy: 92.00\n",
      "Epoch: 5/10 \tIteration: 3300 \tTrain Loss: 0.126 \tTrain Accuracy: 92.00\n",
      "Epoch: 5/10 \tIteration: 3400 \tTrain Loss: 0.148 \tTrain Accuracy: 94.00\n",
      "Epoch: 5/10 \tIteration: 3500 \tTrain Loss: 0.104 \tTrain Accuracy: 94.00\n",
      "\tTrain Loss: 0.160 \tTrain Acc: 93.813\n",
      "Val Loss: 0.355 \tVal Acc: 86.720\n",
      "Time to train epoch: 4.34376859664917 s\n",
      "Epoch: 6/10 \tIteration: 3600 \tTrain Loss: 0.089 \tTrain Accuracy: 98.00\n",
      "Epoch: 6/10 \tIteration: 3700 \tTrain Loss: 0.129 \tTrain Accuracy: 94.00\n",
      "Epoch: 6/10 \tIteration: 3800 \tTrain Loss: 0.195 \tTrain Accuracy: 92.00\n",
      "Epoch: 6/10 \tIteration: 3900 \tTrain Loss: 0.152 \tTrain Accuracy: 94.00\n",
      "Epoch: 6/10 \tIteration: 4000 \tTrain Loss: 0.073 \tTrain Accuracy: 98.00\n",
      "Epoch: 6/10 \tIteration: 4100 \tTrain Loss: 0.054 \tTrain Accuracy: 98.00\n",
      "\tTrain Loss: 0.136 \tTrain Acc: 94.910\n",
      "Val Loss: 0.393 \tVal Acc: 86.740\n",
      "Time to train epoch: 4.9028966426849365 s\n",
      "Epoch: 7/10 \tIteration: 4200 \tTrain Loss: 0.094 \tTrain Accuracy: 98.00\n",
      "Epoch: 7/10 \tIteration: 4300 \tTrain Loss: 0.100 \tTrain Accuracy: 94.00\n",
      "Epoch: 7/10 \tIteration: 4400 \tTrain Loss: 0.139 \tTrain Accuracy: 94.00\n",
      "Epoch: 7/10 \tIteration: 4500 \tTrain Loss: 0.040 \tTrain Accuracy: 100.00\n",
      "Epoch: 7/10 \tIteration: 4600 \tTrain Loss: 0.091 \tTrain Accuracy: 98.00\n",
      "Epoch: 7/10 \tIteration: 4700 \tTrain Loss: 0.028 \tTrain Accuracy: 100.00\n",
      "\tTrain Loss: 0.116 \tTrain Acc: 95.700\n",
      "Val Loss: 0.435 \tVal Acc: 86.510\n",
      "Time to train epoch: 4.951448440551758 s\n",
      "Epoch: 8/10 \tIteration: 4800 \tTrain Loss: 0.058 \tTrain Accuracy: 98.00\n",
      "Epoch: 8/10 \tIteration: 4900 \tTrain Loss: 0.096 \tTrain Accuracy: 98.00\n",
      "Epoch: 8/10 \tIteration: 5000 \tTrain Loss: 0.083 \tTrain Accuracy: 98.00\n",
      "Epoch: 8/10 \tIteration: 5100 \tTrain Loss: 0.033 \tTrain Accuracy: 100.00\n",
      "Epoch: 8/10 \tIteration: 5200 \tTrain Loss: 0.051 \tTrain Accuracy: 100.00\n",
      "Epoch: 8/10 \tIteration: 5300 \tTrain Loss: 0.070 \tTrain Accuracy: 96.00\n",
      "\tTrain Loss: 0.099 \tTrain Acc: 96.357\n",
      "Val Loss: 0.472 \tVal Acc: 86.350\n",
      "Time to train epoch: 4.956707954406738 s\n",
      "Epoch: 9/10 \tIteration: 5400 \tTrain Loss: 0.033 \tTrain Accuracy: 100.00\n",
      "Epoch: 9/10 \tIteration: 5500 \tTrain Loss: 0.052 \tTrain Accuracy: 96.00\n",
      "Epoch: 9/10 \tIteration: 5600 \tTrain Loss: 0.092 \tTrain Accuracy: 96.00\n",
      "Epoch: 9/10 \tIteration: 5700 \tTrain Loss: 0.048 \tTrain Accuracy: 98.00\n",
      "Epoch: 9/10 \tIteration: 5800 \tTrain Loss: 0.070 \tTrain Accuracy: 94.00\n",
      "Epoch: 9/10 \tIteration: 5900 \tTrain Loss: 0.019 \tTrain Accuracy: 100.00\n",
      "\tTrain Loss: 0.082 \tTrain Acc: 97.100\n",
      "Val Loss: 0.502 \tVal Acc: 86.390\n",
      "Time to train epoch: 4.974417209625244 s\n",
      "Test Loss: 0.509 \tTest Acc: 86.820\n"
     ]
    }
   ],
   "source": [
    "import time\n",
    "epochs = 10\n",
    "n_filters = 64\n",
    "kernel_size = 2\n",
    "layers= 2\n",
    "learning_rate = 0.001\n",
    "print(len(word_dict))\n",
    "vocab_size = 5000\n",
    "print(vocab_size)\n",
    "embed_dims = 32\n",
    "seq_len = 500\n",
    "dropout = 0.3\n",
    "batch_size=50\n",
    "device = torch.device(\"cuda:0\" if torch.cuda.is_available() else \"cpu\")\n",
    "\n",
    "model = QRNN(vocab_size, embed_dims, n_filters, kernel_size, batch_size, seq_len, layers, device, dropout).to(device)\n",
    "criterion = torch.nn.BCELoss().to(device)\n",
    "optimizer = torch.optim.Adam(model.parameters(),lr=learning_rate)\n",
    "\n",
    "counter = 0\n",
    "QRNN_acc = []\n",
    "QRNN_valacc = []\n",
    "train_loss_epoch = []\n",
    "train_acc_epoch = []\n",
    "val_loss_epoch = []\n",
    "val_acc_epoch = []\n",
    "time_epoch = []\n",
    "model.train()\n",
    "for e in range(epochs):\n",
    "    start_time = time.time()\n",
    "    train_loss = []\n",
    "    train_acc = []\n",
    "    for inputs, labels in train_dl:\n",
    "        inputs, labels = inputs.cuda(), labels.cuda()\n",
    "        model.zero_grad()\n",
    "        logits, accuracy = model(inputs,labels)\n",
    "        loss = criterion(logits,labels.float())\n",
    "        loss.backward()\n",
    "        nn.utils.clip_grad_norm_(model.parameters(), 5)\n",
    "        optimizer.step()\n",
    "        train_loss.append(loss.item())\n",
    "        train_acc.append(accuracy.item()*100/batch_size)\n",
    "        if counter%100==0:\n",
    "            print(\"Epoch: {}/{}\".format(e,epochs),\n",
    "                         \"\\tIteration: {}\".format(counter),\n",
    "                         \"\\tTrain Loss: {:.3f}\".format(loss.item()),\n",
    "                         \"\\tTrain Accuracy: {:.2f}\".format(accuracy.item()*100/batch_size))\n",
    "            QRNN_acc.append(accuracy.item()*100/batch_size)\n",
    "        counter += 1\n",
    "    train_loss_epoch.append(np.round(np.mean(train_loss), 3))\n",
    "    train_acc_epoch.append(np.round(np.mean(train_acc), 3))\n",
    "    print(\"\\tTrain Loss: {:.3f}\".format(np.mean(train_loss)), \"\\tTrain Acc: {:.3f}\".format(np.mean(train_acc)))\n",
    "        \n",
    "    with torch.no_grad():\n",
    "        model.eval()\n",
    "        val_acc = []\n",
    "        val_loss = []\n",
    "        for inputs, labels in val_dl:\n",
    "            inputs_val, labels_val = inputs.cuda(), labels.cuda()\n",
    "            logits_val,accuracy_val = model(inputs_val,labels_val)\n",
    "            loss_val = criterion(logits_val,labels_val.float())\n",
    "            val_acc.append(accuracy_val.item()*100/batch_size)\n",
    "            val_loss.append(loss_val.item())\n",
    "        print(\"Val Loss: {:.3f}\".format(np.mean(val_loss)), \"\\tVal Acc: {:.3f}\".format(np.mean(val_acc)))\n",
    "        val_loss_epoch.append(np.round(np.mean(val_loss), 3))\n",
    "        val_acc_epoch.append(np.round(np.mean(val_acc), 3))\n",
    "        QRNN_valacc.append(np.mean(val_acc))\n",
    "        model.train()\n",
    "        \n",
    "    end_time = time.time()-start_time\n",
    "    print(\"Time to train epoch: {0} s\".format(end_time))\n",
    "    time_epoch.append(np.round(end_time, 3))\n",
    "\n",
    "write_to_csv(epochs, train_loss_epoch, train_acc_epoch, val_loss_epoch, val_acc_epoch, time_epoch)\n",
    "\n",
    "with torch.no_grad():\n",
    "    model.eval()\n",
    "    test_acc = []\n",
    "    test_loss = []\n",
    "    for inputs, labels in test_dl:\n",
    "        input_test, labels_test = inputs.cuda(), labels.cuda()\n",
    "        logits_test, accuracy_test = model(input_test, labels_test)\n",
    "        loss_test = criterion(logits_test, labels_test.float())\n",
    "        test_acc.append(accuracy_test.item()*100/batch_size)\n",
    "        test_loss.append(loss_test.item())\n",
    "    print(\"Test Loss: {:.3f}\".format(np.mean(test_loss)), \"\\tTest Acc: {:.3f}\".format(np.mean(test_acc)))\n",
    "    append_to_csv(epochs, np.round(np.mean(test_acc),3))"
   ]
  },
  {
   "cell_type": "code",
   "execution_count": null,
   "metadata": {},
   "outputs": [],
   "source": []
  }
 ],
 "metadata": {
  "kernelspec": {
   "display_name": "my_env2_gpu",
   "language": "python",
   "name": "my_env2_gpu"
  },
  "language_info": {
   "codemirror_mode": {
    "name": "ipython",
    "version": 3
   },
   "file_extension": ".py",
   "mimetype": "text/x-python",
   "name": "python",
   "nbconvert_exporter": "python",
   "pygments_lexer": "ipython3",
   "version": "3.9.7"
  }
 },
 "nbformat": 4,
 "nbformat_minor": 4
}
